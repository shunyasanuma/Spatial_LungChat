{
 "cells": [
  {
   "cell_type": "code",
   "execution_count": 1,
   "id": "f3576249-f053-4420-b474-1ea12c058205",
   "metadata": {},
   "outputs": [
    {
     "name": "stderr",
     "output_type": "stream",
     "text": [
      "/users/asanb3/.local/lib/python3.9/site-packages/xarray_schema/__init__.py:1: UserWarning: pkg_resources is deprecated as an API. See https://setuptools.pypa.io/en/latest/pkg_resources.html. The pkg_resources package is slated for removal as early as 2025-11-30. Refrain from using this package or pin to Setuptools<81.\n",
      "  from pkg_resources import DistributionNotFound, get_distribution\n",
      "/users/asanb3/.local/lib/python3.9/site-packages/numba/core/decorators.py:246: RuntimeWarning: nopython is set for njit and is ignored\n",
      "  warnings.warn('nopython is set for njit and is ignored', RuntimeWarning)\n"
     ]
    }
   ],
   "source": [
    "import pandas as pd\n",
    "import scanpy as sc\n",
    "import squidpy as sq\n",
    "import numpy as np\n",
    "import os\n",
    "from scipy.io import mmread"
   ]
  },
  {
   "cell_type": "code",
   "execution_count": 2,
   "id": "714356df-9757-46ea-991f-443203ef00e1",
   "metadata": {},
   "outputs": [
    {
     "name": "stdout",
     "output_type": "stream",
     "text": [
      "--- Processing group: More_Affected ---\n",
      "  ... analyzing with cluster_key: 'TNiche'\n"
     ]
    },
    {
     "data": {
      "application/vnd.jupyter.widget-view+json": {
       "model_id": "d3e376c1dad949feaab3e281bfabc7cf",
       "version_major": 2,
       "version_minor": 0
      },
      "text/plain": [
       "  0%|          | 0/1000 [00:00<?, ?/s]"
      ]
     },
     "metadata": {},
     "output_type": "display_data"
    },
    {
     "name": "stdout",
     "output_type": "stream",
     "text": [
      "  ... analyzing with cluster_key: 'final_CT'\n"
     ]
    },
    {
     "data": {
      "application/vnd.jupyter.widget-view+json": {
       "model_id": "5a66bb58a4234261b0617259f34b5e50",
       "version_major": 2,
       "version_minor": 0
      },
      "text/plain": [
       "  0%|          | 0/1000 [00:00<?, ?/s]"
      ]
     },
     "metadata": {},
     "output_type": "display_data"
    },
    {
     "name": "stderr",
     "output_type": "stream",
     "text": [
      "/users/asanb3/.local/lib/python3.9/site-packages/squidpy/gr/_nhood.py:202: RuntimeWarning: invalid value encountered in divide\n",
      "  zscore = (count - perms.mean(axis=0)) / perms.std(axis=0)\n"
     ]
    },
    {
     "name": "stdout",
     "output_type": "stream",
     "text": [
      "--- Processing group: Less_Affected ---\n",
      "  ... analyzing with cluster_key: 'TNiche'\n"
     ]
    },
    {
     "data": {
      "application/vnd.jupyter.widget-view+json": {
       "model_id": "1600e5e67a664eb8985cff02768902a6",
       "version_major": 2,
       "version_minor": 0
      },
      "text/plain": [
       "  0%|          | 0/1000 [00:00<?, ?/s]"
      ]
     },
     "metadata": {},
     "output_type": "display_data"
    },
    {
     "name": "stdout",
     "output_type": "stream",
     "text": [
      "  ... analyzing with cluster_key: 'final_CT'\n"
     ]
    },
    {
     "data": {
      "application/vnd.jupyter.widget-view+json": {
       "model_id": "24ab8bdd56064054acfe1da0e347c9ff",
       "version_major": 2,
       "version_minor": 0
      },
      "text/plain": [
       "  0%|          | 0/1000 [00:00<?, ?/s]"
      ]
     },
     "metadata": {},
     "output_type": "display_data"
    },
    {
     "name": "stderr",
     "output_type": "stream",
     "text": [
      "/users/asanb3/.local/lib/python3.9/site-packages/squidpy/gr/_nhood.py:202: RuntimeWarning: divide by zero encountered in divide\n",
      "  zscore = (count - perms.mean(axis=0)) / perms.std(axis=0)\n"
     ]
    },
    {
     "name": "stdout",
     "output_type": "stream",
     "text": [
      "--- Processing group: Unaffected ---\n",
      "  ... analyzing with cluster_key: 'TNiche'\n"
     ]
    },
    {
     "data": {
      "application/vnd.jupyter.widget-view+json": {
       "model_id": "c6b14ce1acb4450a9d59482f5c7b49e3",
       "version_major": 2,
       "version_minor": 0
      },
      "text/plain": [
       "  0%|          | 0/1000 [00:00<?, ?/s]"
      ]
     },
     "metadata": {},
     "output_type": "display_data"
    },
    {
     "name": "stdout",
     "output_type": "stream",
     "text": [
      "  ... analyzing with cluster_key: 'final_CT'\n"
     ]
    },
    {
     "data": {
      "application/vnd.jupyter.widget-view+json": {
       "model_id": "fbdeb0403208458897b9d67ae455ad34",
       "version_major": 2,
       "version_minor": 0
      },
      "text/plain": [
       "  0%|          | 0/1000 [00:00<?, ?/s]"
      ]
     },
     "metadata": {},
     "output_type": "display_data"
    },
    {
     "name": "stdout",
     "output_type": "stream",
     "text": [
      "\n",
      "--- All combinations processed. ---\n"
     ]
    },
    {
     "name": "stderr",
     "output_type": "stream",
     "text": [
      "/users/asanb3/.local/lib/python3.9/site-packages/squidpy/gr/_nhood.py:202: RuntimeWarning: invalid value encountered in divide\n",
      "  zscore = (count - perms.mean(axis=0)) / perms.std(axis=0)\n"
     ]
    }
   ],
   "source": [
    "# --- 1. Setup paths, groups, and cluster keys ---\n",
    "input_dir = \"/data/salomonis2/LabFiles/Shunya_Asanuma/Spatial/LungChat/Output/Xenium/GSE250346/04.squidpy/metadata/\"\n",
    "output_file = \"/data/salomonis2/LabFiles/Shunya_Asanuma/Spatial/LungChat/Output/Xenium/GSE250346/04.squidpy/combined_nhood_enrichment_multi_key.xlsx\"\n",
    "group_ids = [\"More_Affected\", \"Less_Affected\", \"Unaffected\"]\n",
    "cluster_keys = [\"TNiche\", \"final_CT\"] \n",
    "all_results = {} # Dictionary to store all resulting DataFrames\n",
    "\n",
    "# --- 2. Loop through each group and each cluster key ---\n",
    "for group_id in group_ids:\n",
    "    print(f\"--- Processing group: {group_id} ---\")\n",
    "\n",
    "    # Load data for the current group\n",
    "    counts_path = f\"{input_dir}/{group_id}_counts.mtx\"\n",
    "    if not os.path.exists(counts_path):\n",
    "        print(f\"Warning: Data for group '{group_id}' not found. Skipping.\")\n",
    "        continue\n",
    "\n",
    "    counts = mmread(counts_path).T\n",
    "    metadata = pd.read_csv(f\"{input_dir}/{group_id}_metadata.csv\", index_col=0)\n",
    "    spatial_coords = pd.read_csv(f\"{input_dir}/{group_id}_spatial_coords.csv\", index_col=0)\n",
    "    genes = pd.read_csv(f\"{input_dir}/{group_id}_gene_names.tsv\", header=None, sep=\"\\t\")[0].values\n",
    "    barcodes = pd.read_csv(f\"{input_dir}/{group_id}_cell_barcodes.tsv\", header=None, sep=\"\\t\")[0].values\n",
    "\n",
    "    # Assemble the AnnData object\n",
    "    adata = sc.AnnData(X=counts, obs=metadata, var=pd.DataFrame(index=genes))\n",
    "    adata.obs.index = barcodes\n",
    "    adata.obsm['spatial'] = spatial_coords.loc[adata.obs_names, :].values\n",
    "    adata.obs['sample'] = adata.obs['sample'].astype('category')\n",
    "    \n",
    "    # Pre-compute the spatial neighbors once per group\n",
    "    sq.gr.spatial_neighbors(adata, coord_type=\"generic\", spatial_key=\"spatial\", library_key=\"sample\")\n",
    "\n",
    "    # Inner loop for cluster keys\n",
    "    for cluster_key in cluster_keys:\n",
    "        print(f\"  ... analyzing with cluster_key: '{cluster_key}'\")\n",
    "        \n",
    "        if cluster_key not in adata.obs.columns:\n",
    "            print(f\"Warning: Column '{cluster_key}' not found in metadata for group '{group_id}'. Skipping.\")\n",
    "            continue\n",
    "        adata.obs[cluster_key] = adata.obs[cluster_key].astype('category')\n",
    "        \n",
    "        # Compute neighborhood enrichment\n",
    "        sq.gr.nhood_enrichment(adata, cluster_key=cluster_key)\n",
    "\n",
    "        # Extract the raw z-score matrix\n",
    "        uns_key = f\"{cluster_key}_nhood_enrichment\"\n",
    "        zscore_matrix = adata.uns[uns_key][\"zscore\"]\n",
    "        cell_type_labels = adata.obs[cluster_key].cat.categories\n",
    "        zscore_df = pd.DataFrame(zscore_matrix, index=cell_type_labels, columns=cell_type_labels)\n",
    "        \n",
    "        # --- NEW: Perform signed log10 transformation ---\n",
    "        transformed_df = np.sign(zscore_df) * np.log10(np.abs(zscore_df) + 1)\n",
    "        \n",
    "        # Store both raw and transformed results in the dictionary\n",
    "        raw_key = f\"{group_id}_{cluster_key}_raw_zscore\"\n",
    "        transformed_key = f\"{group_id}_{cluster_key}_log_zscore\"\n",
    "        all_results[raw_key] = zscore_df\n",
    "        all_results[transformed_key] = transformed_df\n",
    "\n",
    "print(\"\\n--- All combinations processed. ---\")"
   ]
  },
  {
   "cell_type": "code",
   "execution_count": 9,
   "id": "9d6e0533-11fa-4347-94ac-e0cbe1f4319d",
   "metadata": {},
   "outputs": [
    {
     "name": "stdout",
     "output_type": "stream",
     "text": [
      "Saved results for 'More_Affected_TNiche_raw_zscore' to HDF5 file.\n",
      "Saved results for 'More_Affected_TNiche_log_zscore' to HDF5 file.\n",
      "Saved results for 'More_Affected_final_CT_raw_zscore' to HDF5 file.\n",
      "Saved results for 'More_Affected_final_CT_log_zscore' to HDF5 file.\n",
      "Saved results for 'Less_Affected_TNiche_raw_zscore' to HDF5 file.\n",
      "Saved results for 'Less_Affected_TNiche_log_zscore' to HDF5 file.\n",
      "Saved results for 'Less_Affected_final_CT_raw_zscore' to HDF5 file.\n",
      "Saved results for 'Less_Affected_final_CT_log_zscore' to HDF5 file.\n",
      "Saved results for 'Unaffected_TNiche_raw_zscore' to HDF5 file.\n",
      "Saved results for 'Unaffected_TNiche_log_zscore' to HDF5 file.\n",
      "Saved results for 'Unaffected_final_CT_raw_zscore' to HDF5 file.\n",
      "Saved results for 'Unaffected_final_CT_log_zscore' to HDF5 file.\n",
      "\n",
      " Successfully saved all analyses to: /data/salomonis2/LabFiles/Shunya_Asanuma/Spatial/LungChat/Output/Xenium/GSE250346/04.squidpy/metadata/h5/combined_nhood_enrichment.h5\n"
     ]
    }
   ],
   "source": [
    "# --- 3. Save all results to a single HDF5 file ---\n",
    "output_hdf_file = \"/data/salomonis2/LabFiles/Shunya_Asanuma/Spatial/LungChat/Output/Xenium/GSE250346/04.squidpy/metadata/h5/combined_nhood_enrichment.h5\"\n",
    "\n",
    "# NEW: Create the output directory if it doesn't exist\n",
    "output_dir = os.path.dirname(output_hdf_file)\n",
    "os.makedirs(output_dir, exist_ok=True)\n",
    "\n",
    "# Use the 'w' (write) mode to create a new file each time\n",
    "with pd.HDFStore(output_hdf_file, mode='w') as store:\n",
    "    for result_key, df_to_save in all_results.items():\n",
    "        store.put(result_key, df_to_save)\n",
    "        print(f\"Saved results for '{result_key}' to HDF5 file.\")\n",
    "\n",
    "print(f\"\\n Successfully saved all analyses to: {output_hdf_file}\")"
   ]
  }
 ],
 "metadata": {
  "kernelspec": {
   "display_name": "Python (squidpy)",
   "language": "python",
   "name": "squidpy_env"
  },
  "language_info": {
   "codemirror_mode": {
    "name": "ipython",
    "version": 3
   },
   "file_extension": ".py",
   "mimetype": "text/x-python",
   "name": "python",
   "nbconvert_exporter": "python",
   "pygments_lexer": "ipython3",
   "version": "3.9.23"
  }
 },
 "nbformat": 4,
 "nbformat_minor": 5
}
